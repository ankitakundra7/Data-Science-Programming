{
 "cells": [
  {
   "cell_type": "markdown",
   "metadata": {},
   "source": [
    "# HOMEWORK 1  \n",
    "### Allie Touchstone, Ankita Kundra, Shawn Kalish"
   ]
  },
  {
   "cell_type": "markdown",
   "metadata": {},
   "source": [
    "# 1.    Rock, Paper, Scissors "
   ]
  },
  {
   "cell_type": "code",
   "execution_count": null,
   "metadata": {},
   "outputs": [],
   "source": [
    "import random\n",
    "import operator \n",
    "\n",
    "def computer_pick(player_pick, storage):\n",
    "        \n",
    "    max_used = max(storage.values())\n",
    "        \n",
    "    max_items = []\n",
    "        \n",
    "    for key, value in storage.items():\n",
    "        if value == max_used:\n",
    "            max_items.append(key)\n",
    "        \n",
    "    com_result = random.choices(max_items)\n",
    "\n",
    "    return com_result\n",
    "            "
   ]
  },
  {
   "cell_type": "code",
   "execution_count": null,
   "metadata": {},
   "outputs": [],
   "source": [
    "def rps():\n",
    "    win = 0\n",
    "    lose = 0 \n",
    "    tie = 0 \n",
    "    total_games = 0\n",
    "    result = ''\n",
    "    \n",
    "    storage = {'rock': 0 , 'paper': 0 , 'scissors': 0} \n",
    "    \n",
    "    while 0 != 1:\n",
    "        \n",
    "        player_pick = input('Enter Rock, Paper, Scissors, or Quit: ')\n",
    "        player_pick = player_pick.lower()\n",
    "        \n",
    "        \n",
    "        while player_pick not in ['rock', 'paper', 'scissors', 'quit']:\n",
    "            player_pick = input('Enter Rock, Paper, Scissors, or Quit: ')\n",
    "            player_pick = player_pick.lower()\n",
    "        \n",
    "        if player_pick == \"quit\":\n",
    "            result = (f'You choose to stop playing. Over a total of {total_games} games: you had {win} wins, {lose} loses, and {tie} ties ')\n",
    "            print(result)\n",
    "            return\n",
    "        \n",
    "        # get computer result\n",
    "        com_result = computer_pick(player_pick, storage)\n",
    "        com_result = com_result[0]\n",
    "\n",
    "        if player_pick == com_result:\n",
    "            tie += 1\n",
    "            result = (f\"It's a tie, you both picked {player_pick}\")\n",
    "\n",
    "        elif player_pick == 'paper':\n",
    "            if com_result == 'rock':\n",
    "                win += 1\n",
    "                result =(f'{player_pick} vs. {player_pick}, You win, paper covers rock')\n",
    "            elif com_result == 'scissors':\n",
    "                lose += 1\n",
    "                result = (f'{player_pick} vs. {com_result.lower()}, You lose, scissors cuts paper')\n",
    "\n",
    "        elif player_pick == 'rock':\n",
    "            if com_result == 'paper':\n",
    "                lose += 1\n",
    "                result =(f'{player_pick} vs. {com_result}, You lose, paper covers rock')\n",
    "            elif com_result == 'scissors':\n",
    "                win += 1\n",
    "                result = (f'{player_pick} vs. {com_result}, You win, rock smashes scissors')\n",
    "\n",
    "        elif player_pick == 'scissors':\n",
    "            if com_result == 'rock':\n",
    "                lose += 1\n",
    "                result =(f'{player_pick} vs. {com_result}, You lose, rock smashes scissors')\n",
    "            elif com_result == 'paper':\n",
    "                win += 1\n",
    "                result = (f'{player_pick} vs. {com_result}, You win, scissors cuts paper')\n",
    "        \n",
    "\n",
    "        total_games += 1\n",
    "        \n",
    "        if player_pick == 'rock':\n",
    "            storage['paper'] += 1\n",
    "\n",
    "        elif player_pick == 'paper':   \n",
    "            storage['scissors'] += 1\n",
    "        \n",
    "        elif player_pick == 'scissors':  \n",
    "            storage['rock'] += 1\n",
    "\n",
    "        \n",
    "        print(result)\n",
    "        \n",
    "        \n",
    "rps()"
   ]
  },
  {
   "cell_type": "markdown",
   "metadata": {},
   "source": [
    "# 2. Voters in Florida"
   ]
  },
  {
   "cell_type": "code",
   "execution_count": null,
   "metadata": {},
   "outputs": [],
   "source": [
    "#Changing the working directory\n",
    "import os\n",
    "os.getcwd()\n",
    "os.chdir(\"/Users/kundra/Downloads\")"
   ]
  },
  {
   "cell_type": "code",
   "execution_count": null,
   "metadata": {},
   "outputs": [],
   "source": [
    "# Opening the file\n",
    "fp = open('FloridaVoters.HTML', 'r')\n",
    "fp"
   ]
  },
  {
   "cell_type": "code",
   "execution_count": null,
   "metadata": {},
   "outputs": [],
   "source": [
    "#Reading the text file\n",
    "text = fp.read()\n",
    "text"
   ]
  },
  {
   "cell_type": "code",
   "execution_count": null,
   "metadata": {},
   "outputs": [],
   "source": [
    "import re"
   ]
  },
  {
   "cell_type": "code",
   "execution_count": null,
   "metadata": {},
   "outputs": [],
   "source": [
    "#Extracting all the tabular values\n",
    "extract = re.findall('<td>([^\\n]+)</td>', text)"
   ]
  },
  {
   "cell_type": "code",
   "execution_count": null,
   "metadata": {},
   "outputs": [],
   "source": [
    "extract"
   ]
  },
  {
   "cell_type": "code",
   "execution_count": null,
   "metadata": {},
   "outputs": [],
   "source": [
    "#Removing the commas and converting the string numbers into integers\n",
    "final= [int(x.replace(',','')) if x.replace(',','').isdigit() else x for x in extract]\n",
    "final"
   ]
  },
  {
   "cell_type": "code",
   "execution_count": null,
   "metadata": {},
   "outputs": [],
   "source": [
    "#Only keeping data corresponding to County, Democrat and Republic votes in our list\n",
    "chunks = [final[x:x+3] for x in range(0, len(final), 6)]\n",
    "chunks"
   ]
  },
  {
   "cell_type": "code",
   "execution_count": null,
   "metadata": {},
   "outputs": [],
   "source": [
    "Sorting the list in increasing order of Democrat Votes\n",
    "sorted_list = sorted(chunks,  key=lambda x: x[2])"
   ]
  },
  {
   "cell_type": "code",
   "execution_count": null,
   "metadata": {},
   "outputs": [],
   "source": [
    "sorted_list"
   ]
  },
  {
   "cell_type": "code",
   "execution_count": null,
   "metadata": {},
   "outputs": [],
   "source": [
    "#Printing the final sorted list\n",
    "for s in sorted_list:\n",
    "    print(*s)"
   ]
  },
  {
   "cell_type": "markdown",
   "metadata": {},
   "source": [
    "# 3. Near-duplicate detection "
   ]
  },
  {
   "cell_type": "code",
   "execution_count": null,
   "metadata": {},
   "outputs": [],
   "source": [
    "#Chaging Current Directory\n",
    "import os\n",
    "os.getcwd()\n",
    "os.chdir(\"/Users/kundra/Downloads\")"
   ]
  },
  {
   "cell_type": "markdown",
   "metadata": {},
   "source": [
    "## 3(a) Convert each tweet into a dictionary of phrases"
   ]
  },
  {
   "cell_type": "code",
   "execution_count": null,
   "metadata": {},
   "outputs": [],
   "source": [
    "# Opening the file\n",
    "fp = open('Santa.txt', 'r')\n",
    "fp"
   ]
  },
  {
   "cell_type": "code",
   "execution_count": null,
   "metadata": {},
   "outputs": [],
   "source": [
    "#Reading the tect file\n",
    "text = fp.read()\n",
    "text"
   ]
  },
  {
   "cell_type": "code",
   "execution_count": null,
   "metadata": {},
   "outputs": [],
   "source": [
    "#Creating a list of tweets\n",
    "import re\n",
    "tweets = re.findall('[^\\n]+', text)"
   ]
  },
  {
   "cell_type": "code",
   "execution_count": null,
   "metadata": {},
   "outputs": [],
   "source": [
    "tweets"
   ]
  },
  {
   "cell_type": "markdown",
   "metadata": {},
   "source": [
    "## 3(b) Calculate similarity between two tweets"
   ]
  },
  {
   "cell_type": "code",
   "execution_count": null,
   "metadata": {},
   "outputs": [],
   "source": [
    "#Function moving_window \n",
    "\n",
    "def moving_window(tweet):\n",
    "    words_tweet = tweet.split()\n",
    "    in_list =[words_tweet[x:x+3] for x in range(0, len(words_tweet)-2,1)]\n",
    "    out_dict= {}\n",
    "    for i in range(0,len(in_list)):\n",
    "        in_list[i] = (\" \").join(in_list[i])\n",
    "        out_dict[in_list[i]] = 1\n",
    "    return out_dict\n",
    "\n",
    "test_tweet1 = moving_window(\"This is an awesome tweet, dude\")\n",
    "print(test_tweet1)\n",
    "\n",
    "test_tweet2 = moving_window(\"This is an awesome, dude\")\n",
    "print(test_tweet2)\n"
   ]
  },
  {
   "cell_type": "code",
   "execution_count": null,
   "metadata": {},
   "outputs": [],
   "source": [
    "#Function cosine\n",
    "\n",
    "import math\n",
    "\n",
    "def cosine(dict1, dict2):\n",
    "    intersection = set(dict1.keys()) & set(dict2.keys())\n",
    "    numerator = sum([dict1[x] * dict2[x] for x in intersection])\n",
    "    len1 = len((dict1.keys()))\n",
    "    len2 = len((dict2.keys()))\n",
    "    denominator = math.sqrt(len1) * math.sqrt(len2)\n",
    "    \n",
    "    if not denominator:\n",
    "        return 0.0\n",
    "    else:\n",
    "        return float(numerator) / denominator\n",
    "\n",
    "cosine(test_tweet1,test_tweet2)"
   ]
  },
  {
   "cell_type": "markdown",
   "metadata": {},
   "source": [
    "## 3(c) Read in tweets, and output near-duplicates"
   ]
  },
  {
   "cell_type": "code",
   "execution_count": null,
   "metadata": {},
   "outputs": [],
   "source": [
    "dict_tweets ={}\n",
    "#Applying moving_window function on tweets\n",
    "for index in range(0,len(tweets)):\n",
    "    dict_tweets[index] = moving_window(tweets[index])"
   ]
  },
  {
   "cell_type": "code",
   "execution_count": null,
   "metadata": {},
   "outputs": [],
   "source": [
    "dict_tweets"
   ]
  },
  {
   "cell_type": "code",
   "execution_count": null,
   "metadata": {},
   "outputs": [],
   "source": [
    "#Applying cosine function on the dictionary of tweets to find duplicacy\n",
    "\n",
    "for i in range(0,len(tweets)):\n",
    "    for j in range(0, len(tweets)):\n",
    "        cosin = cosine(dict_tweets[i], dict_tweets[j])\n",
    "        if i != j:\n",
    "            if cosin > 0.5:\n",
    "                print(\"The consine similarity between tweet\", i+1, \"and\", j+1, \"is\", cosin, \"and they are near-duplicates\")\n",
    "\n"
   ]
  },
  {
   "cell_type": "markdown",
   "metadata": {},
   "source": [
    "# 4. The Google of Quotes"
   ]
  },
  {
   "cell_type": "markdown",
   "metadata": {},
   "source": [
    "## 4(a)"
   ]
  },
  {
   "cell_type": "code",
   "execution_count": null,
   "metadata": {},
   "outputs": [],
   "source": [
    "with open('C:\\\\Users\\smkal\\Desktop\\Data_Science_Programming\\HW1\\quotes.txt') as qP:\n",
    "    raw_q_list = qP.readlines()"
   ]
  },
  {
   "cell_type": "code",
   "execution_count": null,
   "metadata": {},
   "outputs": [],
   "source": [
    "i = 0\n",
    "for line in raw_q_list:\n",
    "    raw_q_list[i] = raw_q_list[i].strip()\n",
    "    i += 1\n",
    "\n",
    "refined_q_list = []\n",
    "i = 0   \n",
    "j = 0\n",
    "for quote in raw_q_list:\n",
    "    if i > 1770:\n",
    "        break\n",
    "    refined_q_list.append('\"' + raw_q_list[i] + ' - ' + raw_q_list[i+1] + '\"')\n",
    "    i += 2\n",
    "    j += 1\n",
    "refined_q_list"
   ]
  },
  {
   "cell_type": "markdown",
   "metadata": {},
   "source": [
    "## 4(b) "
   ]
  },
  {
   "cell_type": "code",
   "execution_count": null,
   "metadata": {},
   "outputs": [],
   "source": [
    "import re\n",
    "\n",
    "clean_w_list = []\n",
    "\n",
    "def get_words(single_quote):\n",
    "    w_list = []\n",
    "    w_list = single_quote\n",
    "    w_list = w_list.lower()\n",
    "    w_list = re.findall(\"`*([a-z`]+)(?<!`)\", w_list)\n",
    "    clean_w_list.append(w_list)\n",
    "    return clean_w_list\n",
    "\n",
    "for i in range(len(refined_q_list)):\n",
    "    clean_w_list = get_words(refined_q_list[i])\n",
    "    \n",
    "print(len(clean_w_list))\n",
    "clean_w_list"
   ]
  },
  {
   "cell_type": "markdown",
   "metadata": {},
   "source": [
    "## 4(c)"
   ]
  },
  {
   "cell_type": "code",
   "execution_count": null,
   "metadata": {},
   "outputs": [],
   "source": [
    "from collections import Counter\n",
    "\n",
    "### word count dictionary\n",
    "wc_dict = {}\n",
    "\n",
    "### postings-list dictionary\n",
    "pl_dict = {}\n",
    "\n",
    "i = 0\n",
    "for each_quote in clean_w_list:\n",
    "    word_count = Counter(clean_w_list[i])\n",
    "    wc_dict = dict(word_count)\n",
    "    pl_dict.update({refined_q_list[i]: wc_dict})\n",
    "    i += 1\n",
    "\n",
    "pl_dict"
   ]
  },
  {
   "cell_type": "markdown",
   "metadata": {},
   "source": [
    "## 4(d)"
   ]
  },
  {
   "cell_type": "code",
   "execution_count": null,
   "metadata": {},
   "outputs": [],
   "source": [
    "### reverse postings-list dictionary\n",
    "rev_pl_dict = dict()"
   ]
  },
  {
   "cell_type": "code",
   "execution_count": null,
   "metadata": {},
   "outputs": [],
   "source": [
    "full_w_list = []\n",
    "for sublist in clean_w_list:\n",
    "    for item in sublist:\n",
    "        full_w_list.append(item)"
   ]
  },
  {
   "cell_type": "code",
   "execution_count": null,
   "metadata": {},
   "outputs": [],
   "source": [
    "unique_w_list = sorted(list(set(full_w_list)))\n",
    "print(len(unique_w_list))\n",
    "unique_w_list  "
   ]
  },
  {
   "cell_type": "code",
   "execution_count": null,
   "metadata": {},
   "outputs": [],
   "source": [
    "for word in unique_w_list:\n",
    "    rev_pl_dict.update({word: {}})"
   ]
  },
  {
   "cell_type": "code",
   "execution_count": null,
   "metadata": {},
   "outputs": [],
   "source": [
    "for key, value in pl_dict.items():\n",
    "    for word, count in value.items(): \n",
    "        rev_pl_dict[word].update({key : count}) "
   ]
  },
  {
   "cell_type": "code",
   "execution_count": null,
   "metadata": {},
   "outputs": [],
   "source": [
    "for k, v in rev_pl_dict.items():\n",
    "    print('##########################################')\n",
    "    print(k)\n",
    "    print('##########################################')\n",
    "    for quote, count in v.items():\n",
    "        print(quote)\n",
    "        print(\"Count =\", count)\n",
    "        print('###')"
   ]
  },
  {
   "cell_type": "markdown",
   "metadata": {},
   "source": [
    "## 4(e)"
   ]
  },
  {
   "cell_type": "code",
   "execution_count": null,
   "metadata": {},
   "outputs": [],
   "source": [
    "### TF-IDF FUNCTION\n",
    "import math\n",
    "\n",
    "def tf_idf_func(word_input):\n",
    "    \n",
    "    print(\"RESULTS:\")\n",
    "    q_has_w_count = 0\n",
    "    \n",
    "    for quote, value in pl_dict.items():\n",
    "        \n",
    "        for word in value.keys():\n",
    "            ### getting number of quotes the word appears in first\n",
    "            if word == word_input:\n",
    "                q_has_w_count += 1\n",
    "    \n",
    "    for quote, value in pl_dict.items():\n",
    "        \n",
    "        for word, count in value.items():     \n",
    "            if q_has_w_count == 0:\n",
    "                break\n",
    "            if word == word_input:\n",
    "                max_value = max(value.values())\n",
    "                term_freq = count/max_value      \n",
    "                \n",
    "                print(word, \"- appears in the quote:\", quote, count, \"time(s)\")\n",
    "                print(\"The TF is\", term_freq)\n",
    "                \n",
    "                inv_doc_freq = math.log(886/q_has_w_count)\n",
    "                tf_idf = term_freq * inv_doc_freq\n",
    "                \n",
    "                print(\"The TF-IDF of this word in this quote is\", tf_idf)\n",
    "                print(\"_________\")\n",
    "    \n",
    "    if q_has_w_count == 0:\n",
    "        print(\"This word does not appear in any quote\")\n",
    "    else: \n",
    "        print(\"_________\")\n",
    "        print(word_input, \": appeared in\", q_has_w_count, \"quotes\")\n",
    "        print(\"The IDF of this word is\", inv_doc_freq)\n",
    "    \n",
    "word_input = input(\"Enter the word: \")\n",
    "tf_idf_func(word_input)"
   ]
  },
  {
   "cell_type": "markdown",
   "metadata": {},
   "source": [
    "## 4(f)"
   ]
  },
  {
   "cell_type": "code",
   "execution_count": null,
   "metadata": {},
   "outputs": [],
   "source": [
    "def tf_idf_dict_func(word_input):\n",
    "    \n",
    "    tf_idf_dict = {}\n",
    "    q_has_w_count = 0\n",
    "    \n",
    "    \n",
    "    for quote, value in pl_dict.items():\n",
    "        \n",
    "        for word in value.keys():\n",
    "            ### getting number of quotes the word appears in first\n",
    "            if word == word_input:\n",
    "                q_has_w_count += 1\n",
    "    \n",
    "    for quote, value in pl_dict.items():\n",
    "        \n",
    "        for word, count in value.items():     \n",
    "            if q_has_w_count == 0:\n",
    "                break\n",
    "            if word == word_input:\n",
    "                max_value = max(value.values())\n",
    "                term_freq = count/max_value      \n",
    "                inv_doc_freq = math.log(886/q_has_w_count)\n",
    "                tf_idf = term_freq * inv_doc_freq\n",
    "                tf_idf_dict.update({quote: tf_idf})\n",
    "                \n",
    "    if q_has_w_count == 0:\n",
    "        return print(\"This word does not appear in any quote\")\n",
    "    else: \n",
    "        return tf_idf_dict\n",
    "    \n",
    "word_input = input(\"Enter the word: \")\n",
    "tf_idf_dict_func(word_input)"
   ]
  },
  {
   "cell_type": "markdown",
   "metadata": {},
   "source": [
    "## 4(g)"
   ]
  },
  {
   "cell_type": "code",
   "execution_count": null,
   "metadata": {},
   "outputs": [],
   "source": [
    "### Could not get this to work properly in time. It's more complicated now than it should\n",
    "### be after trying many configurations. \n",
    "\n",
    "def tf_idf_sum_dict_func(list_of_words):\n",
    "    print(\"______________\")\n",
    "    print(\"Your words are: \", list_of_words)\n",
    "    \n",
    "    tf_idf_sum_dict = {}\n",
    "    total = 0\n",
    "    tf_idf = 0\n",
    "    \n",
    "    for ind_word in list_of_words:\n",
    "        q_has_w_count = 0\n",
    "        \n",
    "        for quote, value in pl_dict.items():\n",
    "            for word in value.keys():\n",
    "                ### getting number of quotes the word appears in first\n",
    "                if word == ind_word:\n",
    "                    q_has_w_count += 1\n",
    "        \n",
    "        print(q_has_w_count)\n",
    "        \n",
    "        for quote, value in pl_dict.items():\n",
    "            total = 0\n",
    "            for word, count in value.items():             \n",
    "                for ind_word in list_of_words:\n",
    "                \n",
    "                    #print(ind_word)\n",
    "             \n",
    "                    if q_has_w_count == 0:\n",
    "                        break\n",
    "                    if word == ind_word:\n",
    "                        max_value = max(value.values())\n",
    "                        term_freq = count/max_value      \n",
    "                        inv_doc_freq = math.log(886/q_has_w_count)\n",
    "                        tf_idf = term_freq * inv_doc_freq\n",
    "                        total = total + tf_idf\n",
    "                        #print(total)\n",
    "                    \n",
    "                        tf_idf_sum_dict.update({quote: total})\n",
    "            \n",
    "    if q_has_w_count == 0:\n",
    "        return print(\"This word does not appear in any quote\")\n",
    "    else: \n",
    "        return tf_idf_sum_dict\n",
    "    \n",
    "list_of_words = []\n",
    "\n",
    "while True:\n",
    "    word = (input(\"Enter each word followed by Enter, when done type GO:\" ))\n",
    "    if word == \"GO\":\n",
    "        break\n",
    "    list_of_words.append(word)\n",
    "     \n",
    "tf_idf_sum_dict_func(list_of_words)"
   ]
  },
  {
   "cell_type": "code",
   "execution_count": null,
   "metadata": {},
   "outputs": [],
   "source": [
    "## heart + mind\n",
    "((math.log(886/15)) * 0.5) + ((math.log(886/10)) * 0.5)"
   ]
  },
  {
   "cell_type": "code",
   "execution_count": null,
   "metadata": {},
   "outputs": [],
   "source": [
    "## heart\n",
    "((math.log(886/10)) * 0.5)"
   ]
  },
  {
   "cell_type": "code",
   "execution_count": null,
   "metadata": {},
   "outputs": [],
   "source": [
    "## mind\n",
    "((math.log(886/15)) * 0.5)"
   ]
  }
 ],
 "metadata": {
  "kernelspec": {
   "display_name": "Python 3",
   "language": "python",
   "name": "python3"
  },
  "language_info": {
   "codemirror_mode": {
    "name": "ipython",
    "version": 3
   },
   "file_extension": ".py",
   "mimetype": "text/x-python",
   "name": "python",
   "nbconvert_exporter": "python",
   "pygments_lexer": "ipython3",
   "version": "3.7.6"
  }
 },
 "nbformat": 4,
 "nbformat_minor": 4
}
