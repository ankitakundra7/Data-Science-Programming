{
 "cells": [
  {
   "cell_type": "markdown",
   "metadata": {},
   "source": [
    "### Q1 Read in data"
   ]
  },
  {
   "cell_type": "code",
   "execution_count": 1,
   "metadata": {},
   "outputs": [
    {
     "name": "stdout",
     "output_type": "stream",
     "text": [
      "Populating the interactive namespace from numpy and matplotlib\n"
     ]
    }
   ],
   "source": [
    "import pandas as pd\n",
    "import numpy as np\n",
    "%pylab inline"
   ]
  },
  {
   "cell_type": "code",
   "execution_count": 2,
   "metadata": {},
   "outputs": [],
   "source": [
    "df_gold = pd.read_csv('gold.txt', sep = \"\\s\", header = None, names = ['url', 'category'], engine='python')\n",
    "df_labels = pd.read_csv('labels.txt', sep = \"\\s\", header = None, names = ['turk', 'url', 'category'], engine='python')"
   ]
  },
  {
   "cell_type": "code",
   "execution_count": 3,
   "metadata": {},
   "outputs": [
    {
     "name": "stdout",
     "output_type": "stream",
     "text": [
      "1517\n",
      "92721\n"
     ]
    }
   ],
   "source": [
    "print(len(df_gold))\n",
    "print(len(df_labels))"
   ]
  },
  {
   "cell_type": "markdown",
   "metadata": {},
   "source": [
    "### Q2 Split into two DataFrames"
   ]
  },
  {
   "cell_type": "code",
   "execution_count": 4,
   "metadata": {},
   "outputs": [],
   "source": [
    "uniquie_url_gold = list(df_gold['url'].unique())\n"
   ]
  },
  {
   "cell_type": "code",
   "execution_count": 5,
   "metadata": {},
   "outputs": [
    {
     "data": {
      "text/plain": [
       "3324"
      ]
     },
     "execution_count": 5,
     "metadata": {},
     "output_type": "execute_result"
    }
   ],
   "source": [
    "labels_on_gold = df_labels.merge(df_gold, on = \"url\", suffixes = ['_labels', '_gold'])\n",
    "len(labels_on_gold)"
   ]
  },
  {
   "cell_type": "code",
   "execution_count": 6,
   "metadata": {},
   "outputs": [
    {
     "data": {
      "text/plain": [
       "89397"
      ]
     },
     "execution_count": 6,
     "metadata": {},
     "output_type": "execute_result"
    }
   ],
   "source": [
    "#Alternate way of solving:\n",
    "labels_unknown = df_labels[~df_labels['url'].isin(labels_on_gold['url'])]\n",
    "len(labels_unknown)"
   ]
  },
  {
   "cell_type": "markdown",
   "metadata": {},
   "source": [
    "### Q3 Compute accuracies of turks"
   ]
  },
  {
   "cell_type": "code",
   "execution_count": 7,
   "metadata": {},
   "outputs": [
    {
     "data": {
      "text/html": [
       "<div>\n",
       "<style scoped>\n",
       "    .dataframe tbody tr th:only-of-type {\n",
       "        vertical-align: middle;\n",
       "    }\n",
       "\n",
       "    .dataframe tbody tr th {\n",
       "        vertical-align: top;\n",
       "    }\n",
       "\n",
       "    .dataframe thead th {\n",
       "        text-align: right;\n",
       "    }\n",
       "</style>\n",
       "<table border=\"1\" class=\"dataframe\">\n",
       "  <thead>\n",
       "    <tr style=\"text-align: right;\">\n",
       "      <th></th>\n",
       "      <th>count</th>\n",
       "      <th>mean</th>\n",
       "    </tr>\n",
       "    <tr>\n",
       "      <th>turk</th>\n",
       "      <th></th>\n",
       "      <th></th>\n",
       "    </tr>\n",
       "  </thead>\n",
       "  <tbody>\n",
       "    <tr>\n",
       "      <th>A112DVP1KG4QZU</th>\n",
       "      <td>1</td>\n",
       "      <td>1.000000</td>\n",
       "    </tr>\n",
       "    <tr>\n",
       "      <th>A1253FXHCZ9CWM</th>\n",
       "      <td>29</td>\n",
       "      <td>0.517241</td>\n",
       "    </tr>\n",
       "    <tr>\n",
       "      <th>A12CY1Q7XKJJDE</th>\n",
       "      <td>1</td>\n",
       "      <td>1.000000</td>\n",
       "    </tr>\n",
       "    <tr>\n",
       "      <th>A12RE8G66WTO8B</th>\n",
       "      <td>20</td>\n",
       "      <td>0.750000</td>\n",
       "    </tr>\n",
       "    <tr>\n",
       "      <th>A12Y1GTGIQDGRA</th>\n",
       "      <td>3</td>\n",
       "      <td>0.333333</td>\n",
       "    </tr>\n",
       "  </tbody>\n",
       "</table>\n",
       "</div>"
      ],
      "text/plain": [
       "                count      mean\n",
       "turk                           \n",
       "A112DVP1KG4QZU      1  1.000000\n",
       "A1253FXHCZ9CWM     29  0.517241\n",
       "A12CY1Q7XKJJDE      1  1.000000\n",
       "A12RE8G66WTO8B     20  0.750000\n",
       "A12Y1GTGIQDGRA      3  0.333333"
      ]
     },
     "execution_count": 7,
     "metadata": {},
     "output_type": "execute_result"
    }
   ],
   "source": [
    "labels_on_gold['Correctness'] = np.where(labels_on_gold['category_labels'] == labels_on_gold['category_gold'], 1, 0)\n",
    "\n",
    "rater_goodness = labels_on_gold.groupby('turk')['Correctness'].agg(['count', 'mean'])\n",
    "rater_goodness.head()"
   ]
  },
  {
   "cell_type": "markdown",
   "metadata": {},
   "source": [
    "### Q4 Odds ratios"
   ]
  },
  {
   "cell_type": "code",
   "execution_count": 8,
   "metadata": {},
   "outputs": [
    {
     "data": {
      "text/html": [
       "<div>\n",
       "<style scoped>\n",
       "    .dataframe tbody tr th:only-of-type {\n",
       "        vertical-align: middle;\n",
       "    }\n",
       "\n",
       "    .dataframe tbody tr th {\n",
       "        vertical-align: top;\n",
       "    }\n",
       "\n",
       "    .dataframe thead th {\n",
       "        text-align: right;\n",
       "    }\n",
       "</style>\n",
       "<table border=\"1\" class=\"dataframe\">\n",
       "  <thead>\n",
       "    <tr style=\"text-align: right;\">\n",
       "      <th></th>\n",
       "      <th>count</th>\n",
       "      <th>Average_Correctness</th>\n",
       "      <th>odds</th>\n",
       "    </tr>\n",
       "    <tr>\n",
       "      <th>turk</th>\n",
       "      <th></th>\n",
       "      <th></th>\n",
       "      <th></th>\n",
       "    </tr>\n",
       "  </thead>\n",
       "  <tbody>\n",
       "    <tr>\n",
       "      <th>A112DVP1KG4QZU</th>\n",
       "      <td>1</td>\n",
       "      <td>1.000000</td>\n",
       "      <td>1000.000000</td>\n",
       "    </tr>\n",
       "    <tr>\n",
       "      <th>A1253FXHCZ9CWM</th>\n",
       "      <td>29</td>\n",
       "      <td>0.517241</td>\n",
       "      <td>1.069214</td>\n",
       "    </tr>\n",
       "    <tr>\n",
       "      <th>A12CY1Q7XKJJDE</th>\n",
       "      <td>1</td>\n",
       "      <td>1.000000</td>\n",
       "      <td>1000.000000</td>\n",
       "    </tr>\n",
       "    <tr>\n",
       "      <th>A12RE8G66WTO8B</th>\n",
       "      <td>20</td>\n",
       "      <td>0.750000</td>\n",
       "      <td>2.988048</td>\n",
       "    </tr>\n",
       "    <tr>\n",
       "      <th>A12Y1GTGIQDGRA</th>\n",
       "      <td>3</td>\n",
       "      <td>0.333333</td>\n",
       "      <td>0.499251</td>\n",
       "    </tr>\n",
       "  </tbody>\n",
       "</table>\n",
       "</div>"
      ],
      "text/plain": [
       "                count  Average_Correctness         odds\n",
       "turk                                                   \n",
       "A112DVP1KG4QZU      1             1.000000  1000.000000\n",
       "A1253FXHCZ9CWM     29             0.517241     1.069214\n",
       "A12CY1Q7XKJJDE      1             1.000000  1000.000000\n",
       "A12RE8G66WTO8B     20             0.750000     2.988048\n",
       "A12Y1GTGIQDGRA      3             0.333333     0.499251"
      ]
     },
     "execution_count": 8,
     "metadata": {},
     "output_type": "execute_result"
    }
   ],
   "source": [
    "rater_goodness['odds'] = rater_goodness['mean']/(1.001-rater_goodness['mean'])\n",
    "rater_goodness.rename(columns ={'mean':'Average_Correctness'}, inplace=True)\n",
    "rater_goodness.head()"
   ]
  },
  {
   "cell_type": "markdown",
   "metadata": {},
   "source": [
    "### Q5 Most accurate turks"
   ]
  },
  {
   "cell_type": "code",
   "execution_count": 9,
   "metadata": {},
   "outputs": [
    {
     "data": {
      "text/html": [
       "<div>\n",
       "<style scoped>\n",
       "    .dataframe tbody tr th:only-of-type {\n",
       "        vertical-align: middle;\n",
       "    }\n",
       "\n",
       "    .dataframe tbody tr th {\n",
       "        vertical-align: top;\n",
       "    }\n",
       "\n",
       "    .dataframe thead th {\n",
       "        text-align: right;\n",
       "    }\n",
       "</style>\n",
       "<table border=\"1\" class=\"dataframe\">\n",
       "  <thead>\n",
       "    <tr style=\"text-align: right;\">\n",
       "      <th></th>\n",
       "      <th>count</th>\n",
       "      <th>Average_Correctness</th>\n",
       "      <th>odds</th>\n",
       "    </tr>\n",
       "    <tr>\n",
       "      <th>turk</th>\n",
       "      <th></th>\n",
       "      <th></th>\n",
       "      <th></th>\n",
       "    </tr>\n",
       "  </thead>\n",
       "  <tbody>\n",
       "    <tr>\n",
       "      <th>A2U0R4X38GUKZE</th>\n",
       "      <td>20</td>\n",
       "      <td>0.950000</td>\n",
       "      <td>18.627451</td>\n",
       "    </tr>\n",
       "    <tr>\n",
       "      <th>A22C0PJUBFJTI0</th>\n",
       "      <td>36</td>\n",
       "      <td>0.916667</td>\n",
       "      <td>10.869565</td>\n",
       "    </tr>\n",
       "    <tr>\n",
       "      <th>A23YQUBXZPKILZ</th>\n",
       "      <td>24</td>\n",
       "      <td>0.875000</td>\n",
       "      <td>6.944444</td>\n",
       "    </tr>\n",
       "    <tr>\n",
       "      <th>ATVALOQVDCMZW</th>\n",
       "      <td>103</td>\n",
       "      <td>0.854369</td>\n",
       "      <td>5.826657</td>\n",
       "    </tr>\n",
       "    <tr>\n",
       "      <th>A1HIXWH4OXT8S4</th>\n",
       "      <td>40</td>\n",
       "      <td>0.825000</td>\n",
       "      <td>4.687500</td>\n",
       "    </tr>\n",
       "    <tr>\n",
       "      <th>A3220HG1O83HQ4</th>\n",
       "      <td>22</td>\n",
       "      <td>0.818182</td>\n",
       "      <td>4.475385</td>\n",
       "    </tr>\n",
       "    <tr>\n",
       "      <th>A32W20KGQXS0LL</th>\n",
       "      <td>25</td>\n",
       "      <td>0.800000</td>\n",
       "      <td>3.980100</td>\n",
       "    </tr>\n",
       "    <tr>\n",
       "      <th>A20PWAB7G3HDHU</th>\n",
       "      <td>20</td>\n",
       "      <td>0.800000</td>\n",
       "      <td>3.980100</td>\n",
       "    </tr>\n",
       "    <tr>\n",
       "      <th>AJSJVK40F5HM6</th>\n",
       "      <td>28</td>\n",
       "      <td>0.785714</td>\n",
       "      <td>3.649635</td>\n",
       "    </tr>\n",
       "    <tr>\n",
       "      <th>A31OCN4MNHUQ6W</th>\n",
       "      <td>184</td>\n",
       "      <td>0.777174</td>\n",
       "      <td>3.472222</td>\n",
       "    </tr>\n",
       "  </tbody>\n",
       "</table>\n",
       "</div>"
      ],
      "text/plain": [
       "                count  Average_Correctness       odds\n",
       "turk                                                 \n",
       "A2U0R4X38GUKZE     20             0.950000  18.627451\n",
       "A22C0PJUBFJTI0     36             0.916667  10.869565\n",
       "A23YQUBXZPKILZ     24             0.875000   6.944444\n",
       "ATVALOQVDCMZW     103             0.854369   5.826657\n",
       "A1HIXWH4OXT8S4     40             0.825000   4.687500\n",
       "A3220HG1O83HQ4     22             0.818182   4.475385\n",
       "A32W20KGQXS0LL     25             0.800000   3.980100\n",
       "A20PWAB7G3HDHU     20             0.800000   3.980100\n",
       "AJSJVK40F5HM6      28             0.785714   3.649635\n",
       "A31OCN4MNHUQ6W    184             0.777174   3.472222"
      ]
     },
     "execution_count": 9,
     "metadata": {},
     "output_type": "execute_result"
    }
   ],
   "source": [
    "df_accurateness_20 = rater_goodness[rater_goodness['count'] >= 20]\n",
    "df_accurateness_20_10 = df_accurateness_20.sort_values('Average_Correctness', ascending = False)[:10]\n",
    "df_accurateness_20_10.head(10)"
   ]
  },
  {
   "cell_type": "code",
   "execution_count": 10,
   "metadata": {},
   "outputs": [
    {
     "data": {
      "text/plain": [
       "array(['A2U0R4X38GUKZE', 'A22C0PJUBFJTI0', 'A23YQUBXZPKILZ',\n",
       "       'ATVALOQVDCMZW', 'A1HIXWH4OXT8S4', 'A3220HG1O83HQ4',\n",
       "       'A32W20KGQXS0LL', 'A20PWAB7G3HDHU', 'AJSJVK40F5HM6',\n",
       "       'A31OCN4MNHUQ6W'], dtype=object)"
      ]
     },
     "execution_count": 10,
     "metadata": {},
     "output_type": "execute_result"
    }
   ],
   "source": [
    "df_accurateness_20_10.index.values"
   ]
  },
  {
   "cell_type": "markdown",
   "metadata": {},
   "source": [
    "### Q6 Rating counts versus accuracy"
   ]
  },
  {
   "cell_type": "code",
   "execution_count": 11,
   "metadata": {},
   "outputs": [
    {
     "data": {
      "image/png": "[encoded data removed]",
      "text/plain": [
       "<Figure size 432x288 with 1 Axes>"
      ]
     },
     "metadata": {
      "needs_background": "light"
     },
     "output_type": "display_data"
    },
    {
     "data": {
      "image/png": "[encoded data removed]",
      "text/plain": [
       "<Figure size 432x288 with 1 Axes>"
      ]
     },
     "metadata": {
      "needs_background": "light"
     },
     "output_type": "display_data"
    },
    {
     "data": {
      "text/plain": [
       "<matplotlib.axes._subplots.AxesSubplot at 0x1516e46f278>"
      ]
     },
     "execution_count": 11,
     "metadata": {},
     "output_type": "execute_result"
    },
    {
     "data": {
      "image/png": "[encoded data removed]",
      "text/plain": [
       "<Figure size 432x288 with 1 Axes>"
      ]
     },
     "metadata": {
      "needs_background": "light"
     },
     "output_type": "display_data"
    }
   ],
   "source": [
    "scatter(rater_goodness['count'],rater_goodness['Average_Correctness'])\n",
    "xlabel('# of ratings')\n",
    "ylabel('Accuracy')\n",
    "title('Realtionship between Accuracy and Ratings')\n",
    "show()\n",
    "\n",
    "scatter(rater_goodness['count'],rater_goodness['odds'])\n",
    "xlabel('# of ratings')\n",
    "ylabel('Odds')\n",
    "title('Realtionship between Accuracy and Odds')\n",
    "show()\n",
    "\n",
    "rater_goodness['Average_Correctedness_qcut'] = pd.qcut(rater_goodness['Average_Correctness'], q=3)\n",
    "rater_goodness.groupby('Average_Correctedness_qcut')['count'].mean().plot(kind = 'bar')"
   ]
  },
  {
   "cell_type": "markdown",
   "metadata": {},
   "source": [
    "Turks with high accuracy are labeling URLs less than mean value and turks with medium accuracy(between 0.5 and 0.9) are doing more than typical labeling."
   ]
  },
  {
   "cell_type": "markdown",
   "metadata": {},
   "source": [
    "### Q7 Overall predicted odds"
   ]
  },
  {
   "cell_type": "code",
   "execution_count": 12,
   "metadata": {},
   "outputs": [],
   "source": [
    "quantile_75 = rater_goodness.quantile(0.75)['count']"
   ]
  },
  {
   "cell_type": "code",
   "execution_count": 13,
   "metadata": {},
   "outputs": [],
   "source": [
    "list_75 = rater_goodness[rater_goodness['count'] > quantile_75].reset_index()\n",
    "labels_unknown_reliable_75 = labels_unknown.merge(list_75[['turk','odds']],on='turk')"
   ]
  },
  {
   "cell_type": "code",
   "execution_count": 14,
   "metadata": {},
   "outputs": [
    {
     "data": {
      "text/html": [
       "<div>\n",
       "<style scoped>\n",
       "    .dataframe tbody tr th:only-of-type {\n",
       "        vertical-align: middle;\n",
       "    }\n",
       "\n",
       "    .dataframe tbody tr th {\n",
       "        vertical-align: top;\n",
       "    }\n",
       "\n",
       "    .dataframe thead th {\n",
       "        text-align: right;\n",
       "    }\n",
       "</style>\n",
       "<table border=\"1\" class=\"dataframe\">\n",
       "  <thead>\n",
       "    <tr style=\"text-align: right;\">\n",
       "      <th></th>\n",
       "      <th></th>\n",
       "      <th>odds</th>\n",
       "    </tr>\n",
       "    <tr>\n",
       "      <th>url</th>\n",
       "      <th>category</th>\n",
       "      <th></th>\n",
       "    </tr>\n",
       "  </thead>\n",
       "  <tbody>\n",
       "    <tr>\n",
       "      <th>http://0-101.net</th>\n",
       "      <th>G</th>\n",
       "      <td>2.155963</td>\n",
       "    </tr>\n",
       "    <tr>\n",
       "      <th>http://000.cc</th>\n",
       "      <th>G</th>\n",
       "      <td>1.460583</td>\n",
       "    </tr>\n",
       "    <tr>\n",
       "      <th>http://0000.jp</th>\n",
       "      <th>G</th>\n",
       "      <td>14.488244</td>\n",
       "    </tr>\n",
       "    <tr>\n",
       "      <th rowspan=\"2\" valign=\"top\">http://000relationships.com</th>\n",
       "      <th>G</th>\n",
       "      <td>5.681060</td>\n",
       "    </tr>\n",
       "    <tr>\n",
       "      <th>P</th>\n",
       "      <td>1.851852</td>\n",
       "    </tr>\n",
       "  </tbody>\n",
       "</table>\n",
       "</div>"
      ],
      "text/plain": [
       "                                           odds\n",
       "url                         category           \n",
       "http://0-101.net            G          2.155963\n",
       "http://000.cc               G          1.460583\n",
       "http://0000.jp              G         14.488244\n",
       "http://000relationships.com G          5.681060\n",
       "                            P          1.851852"
      ]
     },
     "execution_count": 14,
     "metadata": {},
     "output_type": "execute_result"
    }
   ],
   "source": [
    "reliable_odds_75 = labels_unknown_reliable_75.groupby(['url','category'])[['odds']].agg('prod')\n",
    "reliable_odds_75.head()"
   ]
  },
  {
   "cell_type": "markdown",
   "metadata": {},
   "source": [
    "### Q8 Predicted categories"
   ]
  },
  {
   "cell_type": "code",
   "execution_count": 15,
   "metadata": {},
   "outputs": [
    {
     "data": {
      "text/html": [
       "<div>\n",
       "<style scoped>\n",
       "    .dataframe tbody tr th:only-of-type {\n",
       "        vertical-align: middle;\n",
       "    }\n",
       "\n",
       "    .dataframe tbody tr th {\n",
       "        vertical-align: top;\n",
       "    }\n",
       "\n",
       "    .dataframe thead th {\n",
       "        text-align: right;\n",
       "    }\n",
       "</style>\n",
       "<table border=\"1\" class=\"dataframe\">\n",
       "  <thead>\n",
       "    <tr style=\"text-align: right;\">\n",
       "      <th></th>\n",
       "      <th>top category</th>\n",
       "      <th>top odds</th>\n",
       "    </tr>\n",
       "    <tr>\n",
       "      <th>url</th>\n",
       "      <th></th>\n",
       "      <th></th>\n",
       "    </tr>\n",
       "  </thead>\n",
       "  <tbody>\n",
       "    <tr>\n",
       "      <th>http://0-101.net</th>\n",
       "      <td>G</td>\n",
       "      <td>2.155963</td>\n",
       "    </tr>\n",
       "    <tr>\n",
       "      <th>http://000.cc</th>\n",
       "      <td>G</td>\n",
       "      <td>1.460583</td>\n",
       "    </tr>\n",
       "    <tr>\n",
       "      <th>http://0000.jp</th>\n",
       "      <td>G</td>\n",
       "      <td>14.488244</td>\n",
       "    </tr>\n",
       "    <tr>\n",
       "      <th>http://000relationships.com</th>\n",
       "      <td>G</td>\n",
       "      <td>5.681060</td>\n",
       "    </tr>\n",
       "    <tr>\n",
       "      <th>http://000vitamins.com</th>\n",
       "      <td>G</td>\n",
       "      <td>3.784982</td>\n",
       "    </tr>\n",
       "  </tbody>\n",
       "</table>\n",
       "</div>"
      ],
      "text/plain": [
       "                            top category   top odds\n",
       "url                                                \n",
       "http://0-101.net                       G   2.155963\n",
       "http://000.cc                          G   1.460583\n",
       "http://0000.jp                         G  14.488244\n",
       "http://000relationships.com            G   5.681060\n",
       "http://000vitamins.com                 G   3.784982"
      ]
     },
     "execution_count": 15,
     "metadata": {},
     "output_type": "execute_result"
    }
   ],
   "source": [
    "reset_75 = reliable_odds_75.reset_index()\n",
    "sort_reliable_75 = reset_75.groupby(['url'])['odds'].max().to_frame(name='top odds')\n",
    "merge_75 = sort_reliable_75.merge(reset_75, left_on = ['url', 'top odds'], right_on =['url', 'odds'])\n",
    "result_75 = merge_75[['url', 'category', 'top odds']]\n",
    "result_75 = result_75.rename(columns = {'category':'top category'}).set_index('url')\n",
    "result_75.head()"
   ]
  },
  {
   "cell_type": "markdown",
   "metadata": {},
   "source": [
    "### Q9 Predicted categories using more turks"
   ]
  },
  {
   "cell_type": "code",
   "execution_count": 16,
   "metadata": {},
   "outputs": [],
   "source": [
    "quantile_25 = rater_goodness.quantile(0.25)['count']\n",
    "list_25 = rater_goodness[rater_goodness['count'] > quantile_25].reset_index()\n",
    "\n",
    "labels_unknown_reliable_25 = labels_unknown.merge(list_25[['turk','odds']],on='turk')\n",
    "reliable_odds_25 = labels_unknown_reliable_25.groupby(['url','category'])[['odds']].agg('prod')\n",
    "sort_reliable_25 = reliable_odds_25.reset_index().sort_values(by =['url','odds'],ascending= False)\n",
    "result_25 = sort_reliable_25.groupby('url').first()\n",
    "\n",
    "merge_75_25 = result_75.merge(result_25, on = \"url\", suffixes = ['_75','_25']).reset_index()"
   ]
  },
  {
   "cell_type": "code",
   "execution_count": 17,
   "metadata": {},
   "outputs": [
    {
     "data": {
      "text/html": [
       "<div>\n",
       "<style scoped>\n",
       "    .dataframe tbody tr th:only-of-type {\n",
       "        vertical-align: middle;\n",
       "    }\n",
       "\n",
       "    .dataframe tbody tr th {\n",
       "        vertical-align: top;\n",
       "    }\n",
       "\n",
       "    .dataframe thead th {\n",
       "        text-align: right;\n",
       "    }\n",
       "</style>\n",
       "<table border=\"1\" class=\"dataframe\">\n",
       "  <thead>\n",
       "    <tr style=\"text-align: right;\">\n",
       "      <th>category</th>\n",
       "      <th>G</th>\n",
       "      <th>P</th>\n",
       "      <th>R</th>\n",
       "      <th>X</th>\n",
       "    </tr>\n",
       "    <tr>\n",
       "      <th>top category</th>\n",
       "      <th></th>\n",
       "      <th></th>\n",
       "      <th></th>\n",
       "      <th></th>\n",
       "    </tr>\n",
       "  </thead>\n",
       "  <tbody>\n",
       "    <tr>\n",
       "      <th>G</th>\n",
       "      <td>8327</td>\n",
       "      <td>574</td>\n",
       "      <td>186</td>\n",
       "      <td>216</td>\n",
       "    </tr>\n",
       "    <tr>\n",
       "      <th>P</th>\n",
       "      <td>190</td>\n",
       "      <td>329</td>\n",
       "      <td>47</td>\n",
       "      <td>19</td>\n",
       "    </tr>\n",
       "    <tr>\n",
       "      <th>R</th>\n",
       "      <td>21</td>\n",
       "      <td>34</td>\n",
       "      <td>128</td>\n",
       "      <td>25</td>\n",
       "    </tr>\n",
       "    <tr>\n",
       "      <th>X</th>\n",
       "      <td>27</td>\n",
       "      <td>6</td>\n",
       "      <td>26</td>\n",
       "      <td>457</td>\n",
       "    </tr>\n",
       "  </tbody>\n",
       "</table>\n",
       "</div>"
      ],
      "text/plain": [
       "category         G    P    R    X\n",
       "top category                     \n",
       "G             8327  574  186  216\n",
       "P              190  329   47   19\n",
       "R               21   34  128   25\n",
       "X               27    6   26  457"
      ]
     },
     "execution_count": 17,
     "metadata": {},
     "output_type": "execute_result"
    }
   ],
   "source": [
    "crosstab = pd.crosstab(merge_75_25['top category'],merge_75_25['category'])\n",
    "crosstab"
   ]
  },
  {
   "cell_type": "markdown",
   "metadata": {},
   "source": [
    "The maximum number of errors have occured for P category (top 25%) and it has been misclassified as G (top 75%)"
   ]
  }
 ],
 "metadata": {
  "kernelspec": {
   "display_name": "Python 3",
   "language": "python",
   "name": "python3"
  },
  "language_info": {
   "codemirror_mode": {
    "name": "ipython",
    "version": 3
   },
   "file_extension": ".py",
   "mimetype": "text/x-python",
   "name": "python",
   "nbconvert_exporter": "python",
   "pygments_lexer": "ipython3",
   "version": "3.7.3"
  }
 },
 "nbformat": 4,
 "nbformat_minor": 4
}
